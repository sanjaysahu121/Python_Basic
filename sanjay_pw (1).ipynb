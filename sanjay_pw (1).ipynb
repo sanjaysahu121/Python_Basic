{
 "cells": [
  {
   "cell_type": "markdown",
   "id": "cda3db60-7e03-4627-885a-dee92bf430f2",
   "metadata": {},
   "source": [
    "# Python Basics Questions"
   ]
  },
  {
   "cell_type": "markdown",
   "id": "f6ccbe57-1687-49d7-808a-2e34d194639d",
   "metadata": {},
   "source": [
    " #### 1. What is Python, and why is it popular?"
   ]
  },
  {
   "cell_type": "code",
   "execution_count": null,
   "id": "c7c41658-1c1e-40cb-a9fb-656c0b8b24aa",
   "metadata": {},
   "outputs": [],
   "source": [
    "#Python is a programming as well as a scripting language .This language has various purposes suc as developing ,scripting ,genration and software testing.\n",
    "#Its popular among as because :\n",
    " #   very simple in syntax.\n",
    "    More focus on logic.\n",
    "  #  object oriented language.\n",
    "   # its portable , versatile language & free open source \n",
    "    "
   ]
  },
  {
   "cell_type": "markdown",
   "id": "3d1e8207-523f-43cf-adf6-2c448a405865",
   "metadata": {},
   "source": [
    "#### 2.What is an interpreter in Python?"
   ]
  },
  {
   "cell_type": "code",
   "execution_count": null,
   "id": "1e8d64a6-6b7a-4f54-a723-6868b5068053",
   "metadata": {},
   "outputs": [],
   "source": [
    " # Interpreter in case of python is used for translating the code into machine language.\n",
    "   #  CODE ------->   TRANSLATOR  ------------->     MACHINE  in the form of (0's , and 1's)\n",
    "\n",
    "    # input  -------->  Processing -------------->    output"
   ]
  },
  {
   "cell_type": "markdown",
   "id": "cccbc4a4-8a44-4e5f-9834-2ecb51d9d71e",
   "metadata": {},
   "source": [
    "#### 3. What are pre-defined keywords in Python"
   ]
  },
  {
   "cell_type": "code",
   "execution_count": null,
   "id": "12497555-7651-43b0-a433-baa25cea5a35",
   "metadata": {},
   "outputs": [],
   "source": [
    "# Keywords are predefined words or  reserved words with special meaning to the langugae compiler or interpreter , its use for special purpose and must   # not be used as a normal identifers names ."
   ]
  },
  {
   "cell_type": "markdown",
   "id": "698ab19b-8745-4e87-bc99-e9112c368211",
   "metadata": {},
   "source": [
    "#### 4.Can keywords be used as variable names?"
   ]
  },
  {
   "cell_type": "code",
   "execution_count": null,
   "id": "978a0547-b795-485c-8af0-0ef5c3276e41",
   "metadata": {},
   "outputs": [],
   "source": [
    " # No, we can't used keywords as a variable names."
   ]
  },
  {
   "cell_type": "markdown",
   "id": "4f35f3c9-e578-4892-8343-df8249c2db58",
   "metadata": {},
   "source": [
    "#### 5.What is mutability in Python?"
   ]
  },
  {
   "cell_type": "code",
   "execution_count": null,
   "id": "1f930ee9-8233-4884-bac0-ccef7f743c2b",
   "metadata": {},
   "outputs": [],
   "source": [
    "# Mutability means we can chnaged the object after creation . we can add , remove or update the values without creating a new object .\n",
    "\n",
    "# Example :\n",
    " #    list, dict, set."
   ]
  },
  {
   "cell_type": "markdown",
   "id": "b82a343a-f39d-49b2-976d-92540fae847b",
   "metadata": {},
   "source": [
    "#### 6.Why are lists mutable, but tuples are immutable?"
   ]
  },
  {
   "cell_type": "code",
   "execution_count": null,
   "id": "943ad5c0-d1e1-418f-8be7-b42e24c0cec4",
   "metadata": {},
   "outputs": [],
   "source": [
    "#Lists are meant to be flexible containers for dynamic data.Lists are built with methods like   append(),remove() etc..\n",
    "\n",
    "\n",
    " # Tuples are designed for fixed collections of items.Tuples don’t have methods to modify their contents. Once created, their structure is locked.\n"
   ]
  },
  {
   "cell_type": "markdown",
   "id": "abb51bbe-b3df-447c-a9b5-ea40103600f3",
   "metadata": {},
   "source": [
    "#### 7.What is the difference between “==” and “is” operators in Python?"
   ]
  },
  {
   "cell_type": "code",
   "execution_count": null,
   "id": "53679640-ad60-4852-9106-0ed300c9a27f",
   "metadata": {},
   "outputs": [],
   "source": [
    "\n",
    "# \" == \" is used for comparing the element present in the variable.\n",
    "\n",
    "# \" is\" is used for comparing object indentity."
   ]
  },
  {
   "cell_type": "markdown",
   "id": "c891976c-9555-4c65-8a11-6b90c6b12ade",
   "metadata": {},
   "source": [
    "#### 8. What are logical operators in Python?"
   ]
  },
  {
   "cell_type": "code",
   "execution_count": null,
   "id": "d09c3b0e-8d8a-489f-b3cb-8c86744c3988",
   "metadata": {},
   "outputs": [],
   "source": [
    "Special keywords or symbol that are use to perform operation on values or variable \n",
    "\n",
    "# There are 7 type of logical operators are :\n",
    "\n",
    "# 1.Arthimetic operators\n",
    "# 2.Compearsion operators \n",
    "# 3.Logical operators\n",
    "# 4.Bitwise operators \n",
    "# 5.Membership operators \n",
    "# 6.Identity operators \n",
    "# 7.Assignment operators "
   ]
  },
  {
   "cell_type": "markdown",
   "id": "5072b192-c136-446e-a948-5426b08eaa85",
   "metadata": {},
   "source": [
    "#### 9. What is type casting in Python?\n"
   ]
  },
  {
   "cell_type": "code",
   "execution_count": null,
   "id": "0a77b347-7362-43fc-b5b2-a39b72f6de23",
   "metadata": {},
   "outputs": [],
   "source": [
    "# Type casting is the process of converting one data type into another data type. "
   ]
  },
  {
   "cell_type": "markdown",
   "id": "c8134b4d-6753-42c1-a255-89562eb66c51",
   "metadata": {},
   "source": [
    "#### 10. What is the difference between implicit and explicit type casting"
   ]
  },
  {
   "cell_type": "code",
   "execution_count": null,
   "id": "262be24b-cf1a-4250-82c6-5d69c1a008bb",
   "metadata": {},
   "outputs": [],
   "source": [
    "# Implicit type casting :\n",
    "\n",
    " # Python automatically converts one data type to another when needed usually from a lower precision type to a higher one to avoid data loss.\n",
    "\n",
    "# Explicit type casting :\n",
    "\n",
    "# You manually convert the type using built-in functions like int(), float(), etc.."
   ]
  },
  {
   "cell_type": "markdown",
   "id": "5dd3270e-b695-4c92-8e53-597e29b16016",
   "metadata": {},
   "source": [
    "#### 11.What is the purpose of conditional statements in Python?"
   ]
  },
  {
   "cell_type": "code",
   "execution_count": null,
   "id": "ed723988-26e3-4b7a-b1ec-10ddc8c11e52",
   "metadata": {},
   "outputs": [],
   "source": [
    "# Conditional statements are used to control the flow of your  program using some precondition. \n",
    "\n",
    "# if , else "
   ]
  },
  {
   "cell_type": "markdown",
   "id": "4ffc59eb-a9a4-40f2-9583-41fb203df976",
   "metadata": {},
   "source": [
    "#### 12.How does the elif statement work?"
   ]
  },
  {
   "cell_type": "code",
   "execution_count": null,
   "id": "436c040b-1674-47d8-a8b6-43cba0a3fc14",
   "metadata": {},
   "outputs": [],
   "source": [
    "# The elif statement in Python stands for \"else if\", and it’s used to check multiple conditions . It comes into play after an if statement fails, allowing your program to test another condition before falling back to else.\n",
    "\n",
    " # Working :\n",
    "   #  -> It checks the \"if\" condition.\n",
    "    # -> If \"if\" is False, it checks the \"elif\" condition.\n",
    "    # -> If none of the conditions are True, it executes the else block(if present)\n",
    "\n",
    "\n",
    "\n"
   ]
  },
  {
   "cell_type": "markdown",
   "id": "8a881a4f-7fa2-49aa-aba5-0a7858216d19",
   "metadata": {},
   "source": [
    "#### 13. What is the difference between for and while loops?"
   ]
  },
  {
   "cell_type": "code",
   "execution_count": null,
   "id": "35f51d9c-8bf5-49ee-8caf-ac90d274357b",
   "metadata": {},
   "outputs": [],
   "source": [
    "# For loop :\n",
    "\n",
    "# Iterates over a sequence of elements like string , list etc..\n",
    "we don’t need to manually manage loop variables.\n",
    "\n",
    "\n",
    "While loop :\n",
    "Repeatedly executed a block of code until a condition is met .\n",
    "We must update variables inside the loop to avoid infinite loops.\n",
    "\n"
   ]
  },
  {
   "cell_type": "markdown",
   "id": "c55af0e7-a040-40b7-969e-99a26708ee9e",
   "metadata": {},
   "source": [
    "#### 14. Describe a scenario where a while loop is more suitable than a for loop"
   ]
  },
  {
   "cell_type": "raw",
   "id": "79ecc165-69f2-4a91-b7bc-208fe70e66b3",
   "metadata": {},
   "source": [
    "We know that in while loop repeatedly executed a block until a conditon is met while loop is suitable for \n",
    " ----->> login system because we dont know how many time users type wrong password or id so, here we use while loop .\n",
    "\n",
    "we can't use for loop here ."
   ]
  },
  {
   "cell_type": "markdown",
   "id": "9e408be1-0d5c-493e-b75c-3486266de1bf",
   "metadata": {},
   "source": [
    "#  Practical Questions"
   ]
  },
  {
   "cell_type": "markdown",
   "id": "3df40456-59b0-4b6f-919d-05474bb6a8fa",
   "metadata": {},
   "source": [
    "#### 1. Write a Python program to print \"Hello, World!\""
   ]
  },
  {
   "cell_type": "code",
   "execution_count": 3,
   "id": "268ff253-0b83-4ed6-afd7-6fc716954789",
   "metadata": {},
   "outputs": [
    {
     "name": "stdout",
     "output_type": "stream",
     "text": [
      "Hello, World!\n"
     ]
    }
   ],
   "source": [
    "print(\"Hello, World!\")"
   ]
  },
  {
   "cell_type": "markdown",
   "id": "468e4e4f-2614-4fd3-bd29-ccdc143ad40f",
   "metadata": {},
   "source": [
    "#### 2.Write a Python program that displays your name and age"
   ]
  },
  {
   "cell_type": "code",
   "execution_count": 8,
   "id": "6c1dbf6a-8f18-4973-9c70-bf3bd8c3266e",
   "metadata": {},
   "outputs": [
    {
     "data": {
      "text/plain": [
       "'sanjay'"
      ]
     },
     "execution_count": 8,
     "metadata": {},
     "output_type": "execute_result"
    }
   ],
   "source": [
    "name = \"sanjay\" \n",
    "age = 21 \n",
    "name\n"
   ]
  },
  {
   "cell_type": "code",
   "execution_count": 6,
   "id": "c1ad8d75-2382-4644-add5-d00dc72d5d8d",
   "metadata": {},
   "outputs": [
    {
     "data": {
      "text/plain": [
       "21"
      ]
     },
     "execution_count": 6,
     "metadata": {},
     "output_type": "execute_result"
    }
   ],
   "source": [
    "age "
   ]
  },
  {
   "cell_type": "markdown",
   "id": "78cbf85d-41da-4e2f-a213-7fb0969ab6b2",
   "metadata": {},
   "source": [
    "#### 3.Write code to print all the pre-defined keywords in Python using the keyword library."
   ]
  },
  {
   "cell_type": "code",
   "execution_count": 10,
   "id": "40b2d09f-490f-4115-88d9-bbcb07b6be88",
   "metadata": {},
   "outputs": [
    {
     "name": "stdout",
     "output_type": "stream",
     "text": [
      "\n",
      "Here is a list of the Python keywords.  Enter any keyword to get more help.\n",
      "\n",
      "False               class               from                or\n",
      "None                continue            global              pass\n",
      "True                def                 if                  raise\n",
      "and                 del                 import              return\n",
      "as                  elif                in                  try\n",
      "assert              else                is                  while\n",
      "async               except              lambda              with\n",
      "await               finally             nonlocal            yield\n",
      "break               for                 not                 \n",
      "\n"
     ]
    }
   ],
   "source": [
    "help('keywords')"
   ]
  },
  {
   "cell_type": "markdown",
   "id": "764111c6-92e5-48cd-a462-8f02c5493deb",
   "metadata": {},
   "source": [
    "#### 4.Write a program that checks if a given word is a Python keyword."
   ]
  },
  {
   "cell_type": "code",
   "execution_count": 27,
   "id": "2547e366-c704-4fc1-8f77-fd68e77c6647",
   "metadata": {},
   "outputs": [
    {
     "name": "stdout",
     "output_type": "stream",
     "text": [
      "is a keyword \n"
     ]
    }
   ],
   "source": [
    "import keyword\n",
    "keyword = keyword.kwlist\n",
    "word = \"if\" \n",
    "if word in keyword :\n",
    "    print(\"is a keyword \")\n",
    "else:\n",
    "    print (\"is not a keyword\")"
   ]
  },
  {
   "cell_type": "markdown",
   "id": "620bf9ac-e2c7-4693-abb5-4b2e7ae8f984",
   "metadata": {},
   "source": [
    "#### 5. Create a list and tuple in Python, and demonstrate how attempting to change an element works differently \n"
   ]
  },
  {
   "cell_type": "code",
   "execution_count": 29,
   "id": "945a6ba4-b10d-4d3e-891a-024878eeeae9",
   "metadata": {},
   "outputs": [
    {
     "data": {
      "text/plain": [
       "[1, 'sanjay', 'vipasha', 'ritika', 10, 78, 25, 378]"
      ]
     },
     "execution_count": 29,
     "metadata": {},
     "output_type": "execute_result"
    }
   ],
   "source": [
    "list = [1,\"sanjay\",\"vipasha\",\"ritika\",10,78,25]\n",
    "list.append(378)\n",
    "list"
   ]
  },
  {
   "cell_type": "code",
   "execution_count": 28,
   "id": "d378758f-922b-46fe-9847-ed47b9907ce5",
   "metadata": {},
   "outputs": [
    {
     "ename": "AttributeError",
     "evalue": "'tuple' object has no attribute 'append'",
     "output_type": "error",
     "traceback": [
      "\u001b[1;31m---------------------------------------------------------------------------\u001b[0m",
      "\u001b[1;31mAttributeError\u001b[0m                            Traceback (most recent call last)",
      "Cell \u001b[1;32mIn[28], line 2\u001b[0m\n\u001b[0;32m      1\u001b[0m \u001b[38;5;28mtuple\u001b[39m \u001b[38;5;241m=\u001b[39m (\u001b[38;5;241m1\u001b[39m,\u001b[38;5;124m\"\u001b[39m\u001b[38;5;124msanjay\u001b[39m\u001b[38;5;124m\"\u001b[39m,\u001b[38;5;124m\"\u001b[39m\u001b[38;5;124mvipasha\u001b[39m\u001b[38;5;124m\"\u001b[39m,\u001b[38;5;124m\"\u001b[39m\u001b[38;5;124mritika\u001b[39m\u001b[38;5;124m\"\u001b[39m,\u001b[38;5;241m10\u001b[39m,\u001b[38;5;241m78\u001b[39m,\u001b[38;5;241m25\u001b[39m)\n\u001b[1;32m----> 2\u001b[0m \u001b[38;5;28mtuple\u001b[39m\u001b[38;5;241m.\u001b[39mappend(\u001b[38;5;241m56\u001b[39m)\n",
      "\u001b[1;31mAttributeError\u001b[0m: 'tuple' object has no attribute 'append'"
     ]
    }
   ],
   "source": [
    "tuple = (1,\"sanjay\",\"vipasha\",\"ritika\",10,78,25)\n",
    "tuple.append(56)"
   ]
  },
  {
   "cell_type": "markdown",
   "id": "0e6e7a19-dacd-47fb-b27f-75920002db15",
   "metadata": {},
   "source": [
    "####  6. Write a function to demonstrate the behavior of mutable and immutable arguments."
   ]
  },
  {
   "cell_type": "markdown",
   "id": "48836300-20b1-455d-a076-6b3e9ba8521c",
   "metadata": {},
   "source": [
    "#### 7. Write a program that performs basic arithmetic operations on two user-input numbers."
   ]
  },
  {
   "cell_type": "code",
   "execution_count": 30,
   "id": "fa0c63de-5af0-4e88-b2ce-7666c8e6739a",
   "metadata": {},
   "outputs": [
    {
     "name": "stdin",
     "output_type": "stream",
     "text": [
      "Enter 1st no. 34\n",
      "Enter 2nd no. 78\n"
     ]
    },
    {
     "data": {
      "text/plain": [
       "112"
      ]
     },
     "execution_count": 30,
     "metadata": {},
     "output_type": "execute_result"
    }
   ],
   "source": [
    "a= int(input(\"Enter 1st no.\"))\n",
    "b= int(input(\"Enter 2nd no.\"))\n",
    "a+b"
   ]
  },
  {
   "cell_type": "code",
   "execution_count": 31,
   "id": "927d6504-9e45-4547-9176-cc33d8c75034",
   "metadata": {},
   "outputs": [
    {
     "data": {
      "text/plain": [
       "-44"
      ]
     },
     "execution_count": 31,
     "metadata": {},
     "output_type": "execute_result"
    }
   ],
   "source": [
    "a-b"
   ]
  },
  {
   "cell_type": "code",
   "execution_count": 32,
   "id": "74cd3d56-e570-4f47-95c2-917a2faf8275",
   "metadata": {},
   "outputs": [
    {
     "data": {
      "text/plain": [
       "2652"
      ]
     },
     "execution_count": 32,
     "metadata": {},
     "output_type": "execute_result"
    }
   ],
   "source": [
    "a*b"
   ]
  },
  {
   "cell_type": "code",
   "execution_count": 33,
   "id": "79c50852-8e0b-40ca-ba0b-544c53167757",
   "metadata": {},
   "outputs": [
    {
     "data": {
      "text/plain": [
       "0.4358974358974359"
      ]
     },
     "execution_count": 33,
     "metadata": {},
     "output_type": "execute_result"
    }
   ],
   "source": [
    "a/b"
   ]
  },
  {
   "cell_type": "code",
   "execution_count": 34,
   "id": "8d5a9b44-244d-4dfa-96bb-c0982f089d38",
   "metadata": {},
   "outputs": [
    {
     "data": {
      "text/plain": [
       "0"
      ]
     },
     "execution_count": 34,
     "metadata": {},
     "output_type": "execute_result"
    }
   ],
   "source": [
    "a//b"
   ]
  },
  {
   "cell_type": "code",
   "execution_count": 36,
   "id": "86081eba-93b0-46f3-88c7-c3334314cd2f",
   "metadata": {},
   "outputs": [
    {
     "data": {
      "text/plain": [
       "2652"
      ]
     },
     "execution_count": 36,
     "metadata": {},
     "output_type": "execute_result"
    }
   ],
   "source": [
    "a*b"
   ]
  },
  {
   "cell_type": "code",
   "execution_count": 37,
   "id": "4e2e7a7b-0eba-4dbd-a1eb-cd3154a10ccd",
   "metadata": {},
   "outputs": [
    {
     "data": {
      "text/plain": [
       "34"
      ]
     },
     "execution_count": 37,
     "metadata": {},
     "output_type": "execute_result"
    }
   ],
   "source": [
    "a%b"
   ]
  },
  {
   "cell_type": "markdown",
   "id": "675223e9-5008-4373-8161-4b6763345aec",
   "metadata": {},
   "source": [
    "####  8. Write a program to demonstrate the use of logical operators."
   ]
  },
  {
   "cell_type": "code",
   "execution_count": 38,
   "id": "a8709001-e167-4314-b374-5617ea4f170f",
   "metadata": {},
   "outputs": [
    {
     "data": {
      "text/plain": [
       "False"
      ]
     },
     "execution_count": 38,
     "metadata": {},
     "output_type": "execute_result"
    }
   ],
   "source": [
    "a = True\n",
    "b = False\n",
    "a and b "
   ]
  },
  {
   "cell_type": "code",
   "execution_count": 40,
   "id": "456f10a2-1034-411d-8fb5-346c6be9b62a",
   "metadata": {},
   "outputs": [
    {
     "data": {
      "text/plain": [
       "False"
      ]
     },
     "execution_count": 40,
     "metadata": {},
     "output_type": "execute_result"
    }
   ],
   "source": [
    "a is b"
   ]
  },
  {
   "cell_type": "code",
   "execution_count": 44,
   "id": "fc6089d3-0a31-4606-8a11-5e2444e327d7",
   "metadata": {},
   "outputs": [
    {
     "data": {
      "text/plain": [
       "True"
      ]
     },
     "execution_count": 44,
     "metadata": {},
     "output_type": "execute_result"
    }
   ],
   "source": [
    "a or b"
   ]
  },
  {
   "cell_type": "code",
   "execution_count": 45,
   "id": "802c72e0-f318-4cec-8569-9815ef17d59a",
   "metadata": {},
   "outputs": [
    {
     "data": {
      "text/plain": [
       "False"
      ]
     },
     "execution_count": 45,
     "metadata": {},
     "output_type": "execute_result"
    }
   ],
   "source": [
    "not a"
   ]
  },
  {
   "cell_type": "code",
   "execution_count": 46,
   "id": "57f2bee2-1fd7-4a1e-9202-75c7039bfa6f",
   "metadata": {},
   "outputs": [
    {
     "data": {
      "text/plain": [
       "True"
      ]
     },
     "execution_count": 46,
     "metadata": {},
     "output_type": "execute_result"
    }
   ],
   "source": [
    "not b"
   ]
  },
  {
   "cell_type": "markdown",
   "id": "c4b7a705-4544-4e94-bc57-8b681e90bbbd",
   "metadata": {},
   "source": [
    "#### 9. Write a Python program to convert user input from string to integer, float, and boolean types."
   ]
  },
  {
   "cell_type": "code",
   "execution_count": 64,
   "id": "1fb1573a-5062-49ec-9150-0e64315e8cad",
   "metadata": {},
   "outputs": [],
   "source": [
    "a = \"123\""
   ]
  },
  {
   "cell_type": "code",
   "execution_count": 65,
   "id": "6122e48e-3e66-4f02-a2e4-4d8789717af4",
   "metadata": {},
   "outputs": [
    {
     "data": {
      "text/plain": [
       "'123'"
      ]
     },
     "execution_count": 65,
     "metadata": {},
     "output_type": "execute_result"
    }
   ],
   "source": [
    "str(a)"
   ]
  },
  {
   "cell_type": "code",
   "execution_count": 66,
   "id": "17d94416-c377-4c42-9d70-576e8f9be6dc",
   "metadata": {},
   "outputs": [
    {
     "data": {
      "text/plain": [
       "True"
      ]
     },
     "execution_count": 66,
     "metadata": {},
     "output_type": "execute_result"
    }
   ],
   "source": [
    "bool(a)"
   ]
  },
  {
   "cell_type": "code",
   "execution_count": 67,
   "id": "35d824d6-8f31-40ea-88c6-59b32e5906fd",
   "metadata": {},
   "outputs": [
    {
     "data": {
      "text/plain": [
       "123.0"
      ]
     },
     "execution_count": 67,
     "metadata": {},
     "output_type": "execute_result"
    }
   ],
   "source": [
    "float(a)"
   ]
  },
  {
   "cell_type": "code",
   "execution_count": 68,
   "id": "a051f48a-037a-4b33-b103-4773b4651512",
   "metadata": {},
   "outputs": [
    {
     "data": {
      "text/plain": [
       "123"
      ]
     },
     "execution_count": 68,
     "metadata": {},
     "output_type": "execute_result"
    }
   ],
   "source": [
    "int(a)"
   ]
  },
  {
   "cell_type": "markdown",
   "id": "b495ddc6-4d2f-4846-bad2-553e9ec2efb1",
   "metadata": {},
   "source": [
    "#### 10. Write code to demonstrate type casting with list elements."
   ]
  },
  {
   "cell_type": "code",
   "execution_count": 76,
   "id": "4a657406-032f-49a4-9a4c-70d189c582b5",
   "metadata": {},
   "outputs": [
    {
     "data": {
      "text/plain": [
       "list"
      ]
     },
     "execution_count": 76,
     "metadata": {},
     "output_type": "execute_result"
    }
   ],
   "source": [
    "ab = [1,2,3,4,5]\n",
    "type(ab)"
   ]
  },
  {
   "cell_type": "markdown",
   "id": "eb41d5ea-f1dc-44b9-b9e6-a1da938609e5",
   "metadata": {},
   "source": [
    "####  11. Write a program that checks if a number is positive, negative, or zero."
   ]
  },
  {
   "cell_type": "code",
   "execution_count": 77,
   "id": "111bb6a7-6c5b-4239-b8ad-90b81782aa96",
   "metadata": {},
   "outputs": [
    {
     "name": "stdin",
     "output_type": "stream",
     "text": [
      "Enter a number : 8\n"
     ]
    },
    {
     "name": "stdout",
     "output_type": "stream",
     "text": [
      "8 number is postive \n"
     ]
    }
   ],
   "source": [
    "num = int(input(\"Enter a number :\"))\n",
    "if num>0:\n",
    "    print(num,\"number is postive \")\n",
    "elif num ==0:\n",
    "    print(num,\" number is zero \")\n",
    "else:\n",
    "    print(num,\"number is negative \")"
   ]
  },
  {
   "cell_type": "markdown",
   "id": "5f2341d5-883a-4dac-bfbf-345afa59194c",
   "metadata": {},
   "source": [
    "#### 12. Write a for loop to print numbers from 1 to 10."
   ]
  },
  {
   "cell_type": "code",
   "execution_count": 78,
   "id": "72f3594b-439d-481e-be7a-d5a2c7fd5f5a",
   "metadata": {},
   "outputs": [
    {
     "name": "stdout",
     "output_type": "stream",
     "text": [
      "1\n",
      "2\n",
      "3\n",
      "4\n",
      "5\n",
      "6\n",
      "7\n",
      "8\n",
      "9\n",
      "10\n"
     ]
    }
   ],
   "source": [
    "for i in range(1,11):\n",
    "    print(i)"
   ]
  },
  {
   "cell_type": "markdown",
   "id": "29b22f58-70ad-4694-9782-3988a5e8be84",
   "metadata": {},
   "source": [
    "#### 13. Write a Python program to find the sum of all even numbers between 1 and 50."
   ]
  },
  {
   "cell_type": "code",
   "execution_count": 93,
   "id": "27264692-78f6-4b9f-811f-eb9af44ddccb",
   "metadata": {},
   "outputs": [
    {
     "name": "stdout",
     "output_type": "stream",
     "text": [
      "sum of even num. 650\n"
     ]
    }
   ],
   "source": [
    "even_sum =0\n",
    "for num in range (1,51):\n",
    "    if (num %2 == 0):\n",
    "        even_sum+=num\n",
    "print(\"sum of even num.\",even_sum)\n",
    "    \n",
    "        "
   ]
  },
  {
   "cell_type": "markdown",
   "id": "e45b1522-a720-4b29-985a-5c62ac6dcf79",
   "metadata": {},
   "source": [
    "#### 14. Write a program to reverse a string using a while loop."
   ]
  },
  {
   "cell_type": "code",
   "execution_count": 94,
   "id": "f0a74606-c646-4c75-83b3-4a46b2e1fd02",
   "metadata": {},
   "outputs": [
    {
     "name": "stdout",
     "output_type": "stream",
     "text": [
      "Reversed string: dlrow olleh\n"
     ]
    }
   ],
   "source": [
    "text = \"hello world\"\n",
    "reversed_text = \"\"\n",
    "index = len(text) - 1\n",
    "while index >= 0:\n",
    "    reversed_text += text[index]\n",
    "    index -= 1\n",
    "print(\"Reversed string:\", reversed_text)"
   ]
  },
  {
   "cell_type": "markdown",
   "id": "de288193-d39b-4210-89fc-04c8baa4543b",
   "metadata": {},
   "source": [
    "####  15. Write a Python program to calculate the factorial of a number provided by the user using a while loop"
   ]
  },
  {
   "cell_type": "code",
   "execution_count": 95,
   "id": "97b157ec-e307-4f32-923e-e17394155ea0",
   "metadata": {},
   "outputs": [
    {
     "name": "stdin",
     "output_type": "stream",
     "text": [
      "Enter a number to calculate its factorial:  5\n"
     ]
    },
    {
     "name": "stdout",
     "output_type": "stream",
     "text": [
      "Factorial of 5 is: 120\n"
     ]
    }
   ],
   "source": [
    "num = int(input(\"Enter a number to calculate its factorial: \"))\n",
    "fact = 1\n",
    "counter = num\n",
    "while counter > 1:\n",
    "    fact *= counter\n",
    "    counter -= 1\n",
    "print(f\"Factorial of {num} is: {fact}\")"
   ]
  },
  {
   "cell_type": "code",
   "execution_count": null,
   "id": "2e403714-5d4c-44bf-b000-8728c6c12677",
   "metadata": {},
   "outputs": [],
   "source": [
    "-------------------------------END--------------------------------------------------"
   ]
  }
 ],
 "metadata": {
  "kernelspec": {
   "display_name": "Python 3 (ipykernel)",
   "language": "python",
   "name": "python3"
  },
  "language_info": {
   "codemirror_mode": {
    "name": "ipython",
    "version": 3
   },
   "file_extension": ".py",
   "mimetype": "text/x-python",
   "name": "python",
   "nbconvert_exporter": "python",
   "pygments_lexer": "ipython3",
   "version": "3.12.7"
  }
 },
 "nbformat": 4,
 "nbformat_minor": 5
}
